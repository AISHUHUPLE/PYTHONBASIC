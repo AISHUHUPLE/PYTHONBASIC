{
 "cells": [
  {
   "cell_type": "code",
   "execution_count": 1,
   "id": "eaf31ddf",
   "metadata": {},
   "outputs": [],
   "source": [
    "list=[\"aishu\",\"car\",\"money\",\"bike\",\"collage\"]"
   ]
  },
  {
   "cell_type": "code",
   "execution_count": 2,
   "id": "4452d797",
   "metadata": {},
   "outputs": [
    {
     "data": {
      "text/plain": [
       "['aishu', 'car', 'money', 'bike', 'collage']"
      ]
     },
     "execution_count": 2,
     "metadata": {},
     "output_type": "execute_result"
    }
   ],
   "source": [
    "list"
   ]
  },
  {
   "cell_type": "code",
   "execution_count": 8,
   "id": "d49e6f36",
   "metadata": {},
   "outputs": [],
   "source": [
    "a=(\"a\",\"b\",\"c\",\"d\",\"e\",\"f\",\"g\",\"h\",\"i\")"
   ]
  },
  {
   "cell_type": "code",
   "execution_count": 9,
   "id": "0b1ba72e",
   "metadata": {},
   "outputs": [
    {
     "data": {
      "text/plain": [
       "('a', 'b', 'c', 'd', 'e', 'f', 'g', 'h', 'i')"
      ]
     },
     "execution_count": 9,
     "metadata": {},
     "output_type": "execute_result"
    }
   ],
   "source": [
    "a"
   ]
  },
  {
   "cell_type": "code",
   "execution_count": 7,
   "id": "cd17a935",
   "metadata": {},
   "outputs": [],
   "source": [
    "b={1,2,3,4,5,6,7,8}"
   ]
  },
  {
   "cell_type": "code",
   "execution_count": 10,
   "id": "3f08ab03",
   "metadata": {},
   "outputs": [],
   "source": [
    "set={1,2,3,4,5,6,7,8,9,10}"
   ]
  },
  {
   "cell_type": "code",
   "execution_count": 12,
   "id": "35b31b58",
   "metadata": {},
   "outputs": [],
   "source": [
    "dic={\"key\":\"value\",\"key1\":\"value2\",\"key\":\"value2\"}"
   ]
  },
  {
   "cell_type": "code",
   "execution_count": 13,
   "id": "2fc4c96f",
   "metadata": {},
   "outputs": [],
   "source": [
    "aishu={\"name\":\"aishu\",\"email_id\":\"hupleaishwariya@gmail.com\",\"collage\":\"kmics\",\"place\":\"narayanguda\"}"
   ]
  },
  {
   "cell_type": "code",
   "execution_count": 14,
   "id": "9c7366b8",
   "metadata": {},
   "outputs": [
    {
     "data": {
      "text/plain": [
       "{'name': 'aishu',\n",
       " 'email_id': 'hupleaishwariya@gmail.com',\n",
       " 'collage': 'kmics',\n",
       " 'place': 'narayanguda'}"
      ]
     },
     "execution_count": 14,
     "metadata": {},
     "output_type": "execute_result"
    }
   ],
   "source": [
    "aishu"
   ]
  },
  {
   "cell_type": "code",
   "execution_count": 15,
   "id": "42a34462",
   "metadata": {},
   "outputs": [
    {
     "data": {
      "text/plain": [
       "dict_values(['aishu', 'hupleaishwariya@gmail.com', 'kmics', 'narayanguda'])"
      ]
     },
     "execution_count": 15,
     "metadata": {},
     "output_type": "execute_result"
    }
   ],
   "source": [
    "aishu.values()"
   ]
  },
  {
   "cell_type": "code",
   "execution_count": 16,
   "id": "dce662df",
   "metadata": {},
   "outputs": [
    {
     "data": {
      "text/plain": [
       "dict_keys(['name', 'email_id', 'collage', 'place'])"
      ]
     },
     "execution_count": 16,
     "metadata": {},
     "output_type": "execute_result"
    }
   ],
   "source": [
    "aishu.keys()"
   ]
  },
  {
   "cell_type": "code",
   "execution_count": 17,
   "id": "8766225a",
   "metadata": {},
   "outputs": [
    {
     "data": {
      "text/plain": [
       "<function dict.values>"
      ]
     },
     "execution_count": 17,
     "metadata": {},
     "output_type": "execute_result"
    }
   ],
   "source": [
    "aishu.values\n"
   ]
  },
  {
   "cell_type": "code",
   "execution_count": 18,
   "id": "e7587b0c",
   "metadata": {},
   "outputs": [
    {
     "data": {
      "text/plain": [
       "dict"
      ]
     },
     "execution_count": 18,
     "metadata": {},
     "output_type": "execute_result"
    }
   ],
   "source": [
    "type(aishu)"
   ]
  },
  {
   "cell_type": "code",
   "execution_count": 19,
   "id": "a0f2475e",
   "metadata": {},
   "outputs": [],
   "source": [
    "aishu[0]=\"krishna\""
   ]
  },
  {
   "cell_type": "code",
   "execution_count": 20,
   "id": "3a30529b",
   "metadata": {},
   "outputs": [
    {
     "data": {
      "text/plain": [
       "{'name': 'aishu',\n",
       " 'email_id': 'hupleaishwariya@gmail.com',\n",
       " 'collage': 'kmics',\n",
       " 'place': 'narayanguda',\n",
       " 0: 'krishna'}"
      ]
     },
     "execution_count": 20,
     "metadata": {},
     "output_type": "execute_result"
    }
   ],
   "source": [
    "aishu"
   ]
  },
  {
   "cell_type": "code",
   "execution_count": 22,
   "id": "efe1a93f",
   "metadata": {},
   "outputs": [],
   "source": [
    "aishu[\"roll.no\"]=[111021538020]"
   ]
  },
  {
   "cell_type": "code",
   "execution_count": 23,
   "id": "a322d69c",
   "metadata": {},
   "outputs": [
    {
     "data": {
      "text/plain": [
       "{'name': 'aishu',\n",
       " 'email_id': 'hupleaishwariya@gmail.com',\n",
       " 'collage': 'kmics',\n",
       " 'place': 'narayanguda',\n",
       " 0: 'krishna',\n",
       " 'roll.no': [111021538020]}"
      ]
     },
     "execution_count": 23,
     "metadata": {},
     "output_type": "execute_result"
    }
   ],
   "source": [
    "aishu"
   ]
  },
  {
   "cell_type": "code",
   "execution_count": 24,
   "id": "efcfb02f",
   "metadata": {},
   "outputs": [],
   "source": [
    "t=(\"aishu\",\"collage\",\"car\",\"book\",\"bike\")"
   ]
  },
  {
   "cell_type": "code",
   "execution_count": 25,
   "id": "2b15e340",
   "metadata": {},
   "outputs": [
    {
     "data": {
      "text/plain": [
       "('aishu', 'collage', 'car', 'book', 'bike')"
      ]
     },
     "execution_count": 25,
     "metadata": {},
     "output_type": "execute_result"
    }
   ],
   "source": [
    "t"
   ]
  },
  {
   "cell_type": "code",
   "execution_count": 28,
   "id": "b0e1bcfc",
   "metadata": {},
   "outputs": [
    {
     "ename": "TypeError",
     "evalue": "'tuple' object does not support item assignment",
     "output_type": "error",
     "traceback": [
      "\u001b[1;31m---------------------------------------------------------------------------\u001b[0m",
      "\u001b[1;31mTypeError\u001b[0m                                 Traceback (most recent call last)",
      "Cell \u001b[1;32mIn[28], line 1\u001b[0m\n\u001b[1;32m----> 1\u001b[0m t[\u001b[38;5;241m0\u001b[39m]\u001b[38;5;241m=\u001b[39m\u001b[38;5;124m\"\u001b[39m\u001b[38;5;124mrama\u001b[39m\u001b[38;5;124m\"\u001b[39m\n",
      "\u001b[1;31mTypeError\u001b[0m: 'tuple' object does not support item assignment"
     ]
    }
   ],
   "source": [
    "t[0]=\"rama\""
   ]
  },
  {
   "cell_type": "code",
   "execution_count": 3,
   "id": "88e7710a",
   "metadata": {},
   "outputs": [],
   "source": [
    "t=[\"aishu\",\"collage\",\"car\",\"book\",\"bike\"]\n",
    "   \n"
   ]
  },
  {
   "cell_type": "code",
   "execution_count": 4,
   "id": "4999eab0",
   "metadata": {},
   "outputs": [
    {
     "data": {
      "text/plain": [
       "['aishu', 'collage', 'car', 'book', 'bike']"
      ]
     },
     "execution_count": 4,
     "metadata": {},
     "output_type": "execute_result"
    }
   ],
   "source": [
    "t"
   ]
  },
  {
   "cell_type": "code",
   "execution_count": 5,
   "id": "1545e35f",
   "metadata": {},
   "outputs": [],
   "source": [
    "t[0]=\"rama\""
   ]
  },
  {
   "cell_type": "code",
   "execution_count": 6,
   "id": "c4b406f7",
   "metadata": {},
   "outputs": [
    {
     "data": {
      "text/plain": [
       "['rama', 'collage', 'car', 'book', 'bike']"
      ]
     },
     "execution_count": 6,
     "metadata": {},
     "output_type": "execute_result"
    }
   ],
   "source": [
    "t"
   ]
  },
  {
   "cell_type": "code",
   "execution_count": 7,
   "id": "d4918b70",
   "metadata": {},
   "outputs": [],
   "source": [
    "f=open(\"aishu.txt\",\"w\")"
   ]
  },
  {
   "cell_type": "code",
   "execution_count": null,
   "id": "1467bab8",
   "metadata": {},
   "outputs": [],
   "source": []
  },
  {
   "cell_type": "code",
   "execution_count": 8,
   "id": "df4f86f4",
   "metadata": {},
   "outputs": [
    {
     "data": {
      "text/plain": [
       "64"
      ]
     },
     "execution_count": 8,
     "metadata": {},
     "output_type": "execute_result"
    }
   ],
   "source": [
    "f.write(\"This is my first file writen in jupyter notebook on 1-april-2023\")"
   ]
  },
  {
   "cell_type": "code",
   "execution_count": null,
   "id": "bed88a89",
   "metadata": {},
   "outputs": [],
   "source": []
  }
 ],
 "metadata": {
  "kernelspec": {
   "display_name": "Python 3 (ipykernel)",
   "language": "python",
   "name": "python3"
  },
  "language_info": {
   "codemirror_mode": {
    "name": "ipython",
    "version": 3
   },
   "file_extension": ".py",
   "mimetype": "text/x-python",
   "name": "python",
   "nbconvert_exporter": "python",
   "pygments_lexer": "ipython3",
   "version": "3.10.9"
  }
 },
 "nbformat": 4,
 "nbformat_minor": 5
}
