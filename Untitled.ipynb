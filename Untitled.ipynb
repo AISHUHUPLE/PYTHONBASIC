{
 "cells": [
  {
   "cell_type": "code",
   "execution_count": 1,
   "id": "b0c2acba",
   "metadata": {},
   "outputs": [],
   "source": [
    " name=\"s.kavya\""
   ]
  },
  {
   "cell_type": "markdown",
   "id": "900a7363",
   "metadata": {},
   "source": []
  },
  {
   "cell_type": "code",
   "execution_count": 3,
   "id": "74716ceb",
   "metadata": {},
   "outputs": [
    {
     "data": {
      "text/plain": [
       "'s.kavya'"
      ]
     },
     "execution_count": 3,
     "metadata": {},
     "output_type": "execute_result"
    }
   ],
   "source": [
    "name"
   ]
  },
  {
   "cell_type": "code",
   "execution_count": 8,
   "id": "f506680f",
   "metadata": {},
   "outputs": [],
   "source": [
    "animal=\"rabbit\""
   ]
  },
  {
   "cell_type": "code",
   "execution_count": 9,
   "id": "9a44d7eb",
   "metadata": {},
   "outputs": [
    {
     "data": {
      "text/plain": [
       "'rabbit'"
      ]
     },
     "execution_count": 9,
     "metadata": {},
     "output_type": "execute_result"
    }
   ],
   "source": [
    "animal"
   ]
  },
  {
   "cell_type": "code",
   "execution_count": 10,
   "id": "f6cd749d",
   "metadata": {},
   "outputs": [],
   "source": [
    "bmw=\"x1\""
   ]
  },
  {
   "cell_type": "code",
   "execution_count": 11,
   "id": "bfcc048a",
   "metadata": {},
   "outputs": [
    {
     "data": {
      "text/plain": [
       "'x1'"
      ]
     },
     "execution_count": 11,
     "metadata": {},
     "output_type": "execute_result"
    }
   ],
   "source": [
    "bmw"
   ]
  },
  {
   "cell_type": "code",
   "execution_count": 12,
   "id": "072f82bc",
   "metadata": {},
   "outputs": [],
   "source": [
    "college=\"kimcs\""
   ]
  },
  {
   "cell_type": "code",
   "execution_count": 13,
   "id": "a84c5037",
   "metadata": {},
   "outputs": [
    {
     "data": {
      "text/plain": [
       "'kimcs'"
      ]
     },
     "execution_count": 13,
     "metadata": {},
     "output_type": "execute_result"
    }
   ],
   "source": [
    "college"
   ]
  },
  {
   "cell_type": "code",
   "execution_count": 14,
   "id": "273ca529",
   "metadata": {},
   "outputs": [],
   "source": [
    "bike=\"bullet\""
   ]
  },
  {
   "cell_type": "code",
   "execution_count": 15,
   "id": "03dbaf27",
   "metadata": {},
   "outputs": [
    {
     "data": {
      "text/plain": [
       "'bullet'"
      ]
     },
     "execution_count": 15,
     "metadata": {},
     "output_type": "execute_result"
    }
   ],
   "source": [
    "bike"
   ]
  },
  {
   "cell_type": "code",
   "execution_count": 16,
   "id": "2e796733",
   "metadata": {},
   "outputs": [],
   "source": [
    "programming=\"python\""
   ]
  },
  {
   "cell_type": "code",
   "execution_count": 17,
   "id": "3347f2dc",
   "metadata": {},
   "outputs": [
    {
     "data": {
      "text/plain": [
       "'python'"
      ]
     },
     "execution_count": 17,
     "metadata": {},
     "output_type": "execute_result"
    }
   ],
   "source": [
    "programming"
   ]
  },
  {
   "cell_type": "code",
   "execution_count": 18,
   "id": "daa72830",
   "metadata": {},
   "outputs": [],
   "source": [
    "car=\"audi\""
   ]
  },
  {
   "cell_type": "code",
   "execution_count": 19,
   "id": "5dabfd31",
   "metadata": {},
   "outputs": [
    {
     "data": {
      "text/plain": [
       "'audi'"
      ]
     },
     "execution_count": 19,
     "metadata": {},
     "output_type": "execute_result"
    }
   ],
   "source": [
    "car"
   ]
  },
  {
   "cell_type": "code",
   "execution_count": 20,
   "id": "cab71ef5",
   "metadata": {},
   "outputs": [],
   "source": [
    "company=\"kfc\""
   ]
  },
  {
   "cell_type": "code",
   "execution_count": 21,
   "id": "64afac30",
   "metadata": {},
   "outputs": [
    {
     "data": {
      "text/plain": [
       "'kfc'"
      ]
     },
     "execution_count": 21,
     "metadata": {},
     "output_type": "execute_result"
    }
   ],
   "source": [
    "company"
   ]
  },
  {
   "cell_type": "code",
   "execution_count": 22,
   "id": "9138137f",
   "metadata": {},
   "outputs": [],
   "source": [
    "number=\"2023\""
   ]
  },
  {
   "cell_type": "code",
   "execution_count": 23,
   "id": "3f9cd20c",
   "metadata": {},
   "outputs": [
    {
     "data": {
      "text/plain": [
       "'2023'"
      ]
     },
     "execution_count": 23,
     "metadata": {},
     "output_type": "execute_result"
    }
   ],
   "source": [
    "number"
   ]
  },
  {
   "cell_type": "code",
   "execution_count": 24,
   "id": "de16db8b",
   "metadata": {},
   "outputs": [
    {
     "data": {
      "text/plain": [
       "str"
      ]
     },
     "execution_count": 24,
     "metadata": {},
     "output_type": "execute_result"
    }
   ],
   "source": [
    "type(number)"
   ]
  },
  {
   "cell_type": "code",
   "execution_count": 25,
   "id": "3d6f9ab0",
   "metadata": {},
   "outputs": [],
   "source": [
    "number1=(2023)"
   ]
  },
  {
   "cell_type": "code",
   "execution_count": 26,
   "id": "6f4d48d7",
   "metadata": {},
   "outputs": [
    {
     "data": {
      "text/plain": [
       "2023"
      ]
     },
     "execution_count": 26,
     "metadata": {},
     "output_type": "execute_result"
    }
   ],
   "source": [
    "number1"
   ]
  },
  {
   "cell_type": "code",
   "execution_count": 27,
   "id": "a6851379",
   "metadata": {},
   "outputs": [
    {
     "data": {
      "text/plain": [
       "int"
      ]
     },
     "execution_count": 27,
     "metadata": {},
     "output_type": "execute_result"
    }
   ],
   "source": [
    "type(number1)"
   ]
  },
  {
   "cell_type": "code",
   "execution_count": 28,
   "id": "4f7a422d",
   "metadata": {},
   "outputs": [
    {
     "ename": "SyntaxError",
     "evalue": "invalid decimal literal (20624255.py, line 1)",
     "output_type": "error",
     "traceback": [
      "\u001b[1;36m  Cell \u001b[1;32mIn[28], line 1\u001b[1;36m\u001b[0m\n\u001b[1;33m    1number=\"kavya\"\u001b[0m\n\u001b[1;37m    ^\u001b[0m\n\u001b[1;31mSyntaxError\u001b[0m\u001b[1;31m:\u001b[0m invalid decimal literal\n"
     ]
    }
   ],
   "source": [
    "1number=\"s.kavya\""
   ]
  },
  {
   "cell_type": "code",
   "execution_count": 29,
   "id": "1bf0a1de",
   "metadata": {},
   "outputs": [],
   "source": [
    "s=(1,2,3,4,5,6,7)"
   ]
  },
  {
   "cell_type": "code",
   "execution_count": 30,
   "id": "895783f5",
   "metadata": {},
   "outputs": [
    {
     "data": {
      "text/plain": [
       "(1, 2, 3, 4, 5, 6, 7)"
      ]
     },
     "execution_count": 30,
     "metadata": {},
     "output_type": "execute_result"
    }
   ],
   "source": [
    "s"
   ]
  },
  {
   "cell_type": "code",
   "execution_count": 32,
   "id": "186cb59b",
   "metadata": {},
   "outputs": [
    {
     "data": {
      "text/plain": [
       "tuple"
      ]
     },
     "execution_count": 32,
     "metadata": {},
     "output_type": "execute_result"
    }
   ],
   "source": [
    "type(s)"
   ]
  },
  {
   "cell_type": "code",
   "execution_count": 33,
   "id": "173edf3d",
   "metadata": {},
   "outputs": [],
   "source": [
    "s1=('kavya','coding','😍😘')"
   ]
  },
  {
   "cell_type": "code",
   "execution_count": 34,
   "id": "5c2714e3",
   "metadata": {},
   "outputs": [
    {
     "data": {
      "text/plain": [
       "tuple"
      ]
     },
     "execution_count": 34,
     "metadata": {},
     "output_type": "execute_result"
    }
   ],
   "source": [
    "type(s1)"
   ]
  },
  {
   "cell_type": "code",
   "execution_count": 35,
   "id": "388548a0",
   "metadata": {},
   "outputs": [],
   "source": [
    "car=[\"bmw,audi,volvo,supra\"]"
   ]
  },
  {
   "cell_type": "code",
   "execution_count": 36,
   "id": "444f56ee",
   "metadata": {},
   "outputs": [
    {
     "data": {
      "text/plain": [
       "['bmw,audi,volvo,supra']"
      ]
     },
     "execution_count": 36,
     "metadata": {},
     "output_type": "execute_result"
    }
   ],
   "source": [
    "car"
   ]
  },
  {
   "cell_type": "code",
   "execution_count": 37,
   "id": "19fd19b3",
   "metadata": {},
   "outputs": [
    {
     "data": {
      "text/plain": [
       "list"
      ]
     },
     "execution_count": 37,
     "metadata": {},
     "output_type": "execute_result"
    }
   ],
   "source": [
    "type(car)"
   ]
  },
  {
   "cell_type": "code",
   "execution_count": 38,
   "id": "c2f320ed",
   "metadata": {},
   "outputs": [],
   "source": [
    "bunny=['😍','👌']"
   ]
  },
  {
   "cell_type": "code",
   "execution_count": 39,
   "id": "099249a4",
   "metadata": {},
   "outputs": [
    {
     "data": {
      "text/plain": [
       "['😍', '👌']"
      ]
     },
     "execution_count": 39,
     "metadata": {},
     "output_type": "execute_result"
    }
   ],
   "source": [
    "bunny"
   ]
  },
  {
   "cell_type": "code",
   "execution_count": 40,
   "id": "5bee9eba",
   "metadata": {},
   "outputs": [
    {
     "data": {
      "text/plain": [
       "list"
      ]
     },
     "execution_count": 40,
     "metadata": {},
     "output_type": "execute_result"
    }
   ],
   "source": [
    "type(bunny)"
   ]
  },
  {
   "cell_type": "code",
   "execution_count": 41,
   "id": "fb8f3a8b",
   "metadata": {},
   "outputs": [],
   "source": [
    "s2={1,2,3,4,5,\"kavya\",\"coding\",\"phone\",\"college\"}"
   ]
  },
  {
   "cell_type": "code",
   "execution_count": 42,
   "id": "63ff884c",
   "metadata": {},
   "outputs": [
    {
     "data": {
      "text/plain": [
       "{1, 2, 3, 4, 5, 'coding', 'college', 'kavya', 'phone'}"
      ]
     },
     "execution_count": 42,
     "metadata": {},
     "output_type": "execute_result"
    }
   ],
   "source": [
    "s2"
   ]
  },
  {
   "cell_type": "code",
   "execution_count": 43,
   "id": "dea4e108",
   "metadata": {},
   "outputs": [
    {
     "data": {
      "text/plain": [
       "set"
      ]
     },
     "execution_count": 43,
     "metadata": {},
     "output_type": "execute_result"
    }
   ],
   "source": [
    "type(s2)"
   ]
  },
  {
   "cell_type": "code",
   "execution_count": 1,
   "id": "cfbe1bbc",
   "metadata": {},
   "outputs": [],
   "source": [
    "name = \"aishu\""
   ]
  },
  {
   "cell_type": "code",
   "execution_count": 2,
   "id": "b04d2c77",
   "metadata": {},
   "outputs": [
    {
     "data": {
      "text/plain": [
       "'aishu'"
      ]
     },
     "execution_count": 2,
     "metadata": {},
     "output_type": "execute_result"
    }
   ],
   "source": [
    "name"
   ]
  },
  {
   "cell_type": "code",
   "execution_count": 3,
   "id": "cc2c874d",
   "metadata": {},
   "outputs": [],
   "source": [
    "num=\"122\""
   ]
  },
  {
   "cell_type": "code",
   "execution_count": null,
   "id": "d1f8c8ad",
   "metadata": {},
   "outputs": [],
   "source": []
  },
  {
   "cell_type": "code",
   "execution_count": 4,
   "id": "2bf8594e",
   "metadata": {},
   "outputs": [
    {
     "data": {
      "text/plain": [
       "'122'"
      ]
     },
     "execution_count": 4,
     "metadata": {},
     "output_type": "execute_result"
    }
   ],
   "source": [
    "num"
   ]
  },
  {
   "cell_type": "code",
   "execution_count": 5,
   "id": "71938901",
   "metadata": {},
   "outputs": [],
   "source": [
    "sanjana= \"heart\""
   ]
  },
  {
   "cell_type": "code",
   "execution_count": 6,
   "id": "dd03705c",
   "metadata": {},
   "outputs": [
    {
     "data": {
      "text/plain": [
       "'heart'"
      ]
     },
     "execution_count": 6,
     "metadata": {},
     "output_type": "execute_result"
    }
   ],
   "source": [
    "sanjana"
   ]
  },
  {
   "cell_type": "code",
   "execution_count": null,
   "id": "468b1c14",
   "metadata": {},
   "outputs": [],
   "source": []
  }
 ],
 "metadata": {
  "kernelspec": {
   "display_name": "Python 3 (ipykernel)",
   "language": "python",
   "name": "python3"
  },
  "language_info": {
   "codemirror_mode": {
    "name": "ipython",
    "version": 3
   },
   "file_extension": ".py",
   "mimetype": "text/x-python",
   "name": "python",
   "nbconvert_exporter": "python",
   "pygments_lexer": "ipython3",
   "version": "3.10.9"
  }
 },
 "nbformat": 4,
 "nbformat_minor": 5
}
