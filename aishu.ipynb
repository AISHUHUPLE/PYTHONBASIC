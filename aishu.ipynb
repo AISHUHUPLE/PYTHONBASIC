{
 "cells": [
  {
   "cell_type": "code",
   "execution_count": 1,
   "id": "9844621b",
   "metadata": {},
   "outputs": [],
   "source": [
    "strings=\"aishu\",\"car\",\"holiday\",\"bike\",\"collage\""
   ]
  },
  {
   "cell_type": "code",
   "execution_count": null,
   "id": "7daa9c4f",
   "metadata": {},
   "outputs": [],
   "source": []
  },
  {
   "cell_type": "code",
   "execution_count": 2,
   "id": "9a54e14e",
   "metadata": {},
   "outputs": [
    {
     "data": {
      "text/plain": [
       "('aishu', 'car', 'holiday', 'bike', 'collage')"
      ]
     },
     "execution_count": 2,
     "metadata": {},
     "output_type": "execute_result"
    }
   ],
   "source": [
    "strings"
   ]
  },
  {
   "cell_type": "code",
   "execution_count": 3,
   "id": "5016bd2e",
   "metadata": {},
   "outputs": [
    {
     "name": "stdout",
     "output_type": "stream",
     "text": [
      "('aishu', 'car', 'holiday', 'bike', 'collage')\n"
     ]
    }
   ],
   "source": [
    "print(strings)"
   ]
  },
  {
   "cell_type": "code",
   "execution_count": 4,
   "id": "1efa7b2b",
   "metadata": {},
   "outputs": [
    {
     "name": "stdout",
     "output_type": "stream",
     "text": [
      "aishu\n"
     ]
    }
   ],
   "source": [
    "print(\"aishu\")"
   ]
  },
  {
   "cell_type": "code",
   "execution_count": 5,
   "id": "909a8f91",
   "metadata": {},
   "outputs": [
    {
     "name": "stdout",
     "output_type": "stream",
     "text": [
      "car\n"
     ]
    }
   ],
   "source": [
    "print(\"car\")"
   ]
  },
  {
   "cell_type": "code",
   "execution_count": 6,
   "id": "4f9c4758",
   "metadata": {},
   "outputs": [
    {
     "name": "stdout",
     "output_type": "stream",
     "text": [
      "holiday\n"
     ]
    }
   ],
   "source": [
    "print(\"holiday\")"
   ]
  },
  {
   "cell_type": "code",
   "execution_count": 7,
   "id": "35e3acaf",
   "metadata": {},
   "outputs": [
    {
     "name": "stdout",
     "output_type": "stream",
     "text": [
      "maxi\n"
     ]
    }
   ],
   "source": [
    "print(\"maxi\")"
   ]
  },
  {
   "cell_type": "code",
   "execution_count": 8,
   "id": "314afca2",
   "metadata": {},
   "outputs": [
    {
     "name": "stdout",
     "output_type": "stream",
     "text": [
      "auto\n"
     ]
    }
   ],
   "source": [
    "print(\"auto\")"
   ]
  },
  {
   "cell_type": "code",
   "execution_count": 9,
   "id": "97b561ad",
   "metadata": {},
   "outputs": [
    {
     "name": "stdout",
     "output_type": "stream",
     "text": [
      "bus\n"
     ]
    }
   ],
   "source": [
    "print(\"bus\")"
   ]
  },
  {
   "cell_type": "code",
   "execution_count": 10,
   "id": "fb92760d",
   "metadata": {},
   "outputs": [
    {
     "name": "stdout",
     "output_type": "stream",
     "text": [
      "geo\n"
     ]
    }
   ],
   "source": [
    "print(\"geo\")"
   ]
  },
  {
   "cell_type": "code",
   "execution_count": 11,
   "id": "041e98d4",
   "metadata": {},
   "outputs": [],
   "source": [
    "#indexing"
   ]
  },
  {
   "cell_type": "code",
   "execution_count": 12,
   "id": "474b5669",
   "metadata": {},
   "outputs": [],
   "source": [
    "s=(0,1,2,3,4,5,6,7)"
   ]
  },
  {
   "cell_type": "code",
   "execution_count": 13,
   "id": "c0e13811",
   "metadata": {},
   "outputs": [
    {
     "data": {
      "text/plain": [
       "(0, 1, 2, 3, 4, 5, 6, 7)"
      ]
     },
     "execution_count": 13,
     "metadata": {},
     "output_type": "execute_result"
    }
   ],
   "source": [
    "s"
   ]
  },
  {
   "cell_type": "code",
   "execution_count": 15,
   "id": "b8bd1be1",
   "metadata": {},
   "outputs": [
    {
     "data": {
      "text/plain": [
       "0"
      ]
     },
     "execution_count": 15,
     "metadata": {},
     "output_type": "execute_result"
    }
   ],
   "source": [
    "s[0]"
   ]
  },
  {
   "cell_type": "code",
   "execution_count": 16,
   "id": "8272933e",
   "metadata": {},
   "outputs": [],
   "source": [
    "s=[\"aishu\",\"laptop\",\"pen\",\"book\"]\n"
   ]
  },
  {
   "cell_type": "code",
   "execution_count": 17,
   "id": "124e3eec",
   "metadata": {},
   "outputs": [
    {
     "data": {
      "text/plain": [
       "['aishu', 'laptop', 'pen', 'book']"
      ]
     },
     "execution_count": 17,
     "metadata": {},
     "output_type": "execute_result"
    }
   ],
   "source": [
    "s"
   ]
  },
  {
   "cell_type": "code",
   "execution_count": 18,
   "id": "5465fe7d",
   "metadata": {},
   "outputs": [
    {
     "data": {
      "text/plain": [
       "'book'"
      ]
     },
     "execution_count": 18,
     "metadata": {},
     "output_type": "execute_result"
    }
   ],
   "source": [
    "s[3]"
   ]
  },
  {
   "cell_type": "code",
   "execution_count": 19,
   "id": "b12acfef",
   "metadata": {},
   "outputs": [],
   "source": [
    "s1=(\"sindhu\",\"mass\",\"pavan\",\"indu\")"
   ]
  },
  {
   "cell_type": "code",
   "execution_count": 20,
   "id": "14914e1f",
   "metadata": {},
   "outputs": [
    {
     "data": {
      "text/plain": [
       "'pavan'"
      ]
     },
     "execution_count": 20,
     "metadata": {},
     "output_type": "execute_result"
    }
   ],
   "source": [
    "s1[2]"
   ]
  },
  {
   "cell_type": "code",
   "execution_count": 21,
   "id": "2ba99e51",
   "metadata": {},
   "outputs": [],
   "source": [
    "s2=(\"hindu\",\"religion\",\"defence\",\"indian\")"
   ]
  },
  {
   "cell_type": "code",
   "execution_count": 22,
   "id": "982775a1",
   "metadata": {},
   "outputs": [
    {
     "data": {
      "text/plain": [
       "'indian'"
      ]
     },
     "execution_count": 22,
     "metadata": {},
     "output_type": "execute_result"
    }
   ],
   "source": [
    "s2[3]"
   ]
  },
  {
   "cell_type": "code",
   "execution_count": 23,
   "id": "14188cc0",
   "metadata": {},
   "outputs": [],
   "source": [
    "aishu=\"i am aishu from hyd and i stay in begum bazaar\""
   ]
  },
  {
   "cell_type": "code",
   "execution_count": null,
   "id": "24e032ef",
   "metadata": {},
   "outputs": [],
   "source": []
  },
  {
   "cell_type": "code",
   "execution_count": 24,
   "id": "3818cbb0",
   "metadata": {},
   "outputs": [
    {
     "name": "stdout",
     "output_type": "stream",
     "text": [
      "i am aishu from hyd and i stay in begum bazaar\n"
     ]
    }
   ],
   "source": [
    "print(aishu)"
   ]
  },
  {
   "cell_type": "code",
   "execution_count": 25,
   "id": "85bd77b2",
   "metadata": {},
   "outputs": [
    {
     "data": {
      "text/plain": [
       "'i'"
      ]
     },
     "execution_count": 25,
     "metadata": {},
     "output_type": "execute_result"
    }
   ],
   "source": [
    "aishu[0]"
   ]
  },
  {
   "cell_type": "code",
   "execution_count": 26,
   "id": "218654aa",
   "metadata": {},
   "outputs": [
    {
     "data": {
      "text/plain": [
       "'a'"
      ]
     },
     "execution_count": 26,
     "metadata": {},
     "output_type": "execute_result"
    }
   ],
   "source": [
    "aishu[2]"
   ]
  },
  {
   "cell_type": "code",
   "execution_count": 27,
   "id": "22b6e859",
   "metadata": {},
   "outputs": [
    {
     "data": {
      "text/plain": [
       "'r'"
      ]
     },
     "execution_count": 27,
     "metadata": {},
     "output_type": "execute_result"
    }
   ],
   "source": [
    "aishu[12]"
   ]
  },
  {
   "cell_type": "code",
   "execution_count": 28,
   "id": "b3dfa816",
   "metadata": {},
   "outputs": [
    {
     "data": {
      "text/plain": [
       "' '"
      ]
     },
     "execution_count": 28,
     "metadata": {},
     "output_type": "execute_result"
    }
   ],
   "source": [
    "aishu[1]"
   ]
  },
  {
   "cell_type": "code",
   "execution_count": 29,
   "id": "f064ad99",
   "metadata": {},
   "outputs": [
    {
     "data": {
      "text/plain": [
       "'r'"
      ]
     },
     "execution_count": 29,
     "metadata": {},
     "output_type": "execute_result"
    }
   ],
   "source": [
    "aishu[-1]"
   ]
  },
  {
   "cell_type": "code",
   "execution_count": 30,
   "id": "842de6ab",
   "metadata": {},
   "outputs": [
    {
     "data": {
      "text/plain": [
       "'a'"
      ]
     },
     "execution_count": 30,
     "metadata": {},
     "output_type": "execute_result"
    }
   ],
   "source": [
    "aishu[-5]"
   ]
  },
  {
   "cell_type": "code",
   "execution_count": 31,
   "id": "6a3da266",
   "metadata": {},
   "outputs": [
    {
     "data": {
      "text/plain": [
       "'g'"
      ]
     },
     "execution_count": 31,
     "metadata": {},
     "output_type": "execute_result"
    }
   ],
   "source": [
    "aishu[-10]"
   ]
  },
  {
   "cell_type": "code",
   "execution_count": 33,
   "id": "b2a8c58b",
   "metadata": {},
   "outputs": [
    {
     "data": {
      "text/plain": [
       "'m'"
      ]
     },
     "execution_count": 33,
     "metadata": {},
     "output_type": "execute_result"
    }
   ],
   "source": [
    "\n",
    "aishu[-8]\n",
    "\n",
    "\n",
    "\n",
    "\n"
   ]
  },
  {
   "cell_type": "code",
   "execution_count": 34,
   "id": "dcb2d19c",
   "metadata": {},
   "outputs": [],
   "source": [
    "aishu=\"i write code\""
   ]
  },
  {
   "cell_type": "code",
   "execution_count": 35,
   "id": "34da5340",
   "metadata": {},
   "outputs": [
    {
     "data": {
      "text/plain": [
       "'i write co'"
      ]
     },
     "execution_count": 35,
     "metadata": {},
     "output_type": "execute_result"
    }
   ],
   "source": [
    "aishu[0:10:1]"
   ]
  },
  {
   "cell_type": "code",
   "execution_count": 36,
   "id": "24c392da",
   "metadata": {},
   "outputs": [
    {
     "data": {
      "text/plain": [
       "'iwiec'"
      ]
     },
     "execution_count": 36,
     "metadata": {},
     "output_type": "execute_result"
    }
   ],
   "source": [
    "aishu[0:10:2]"
   ]
  },
  {
   "cell_type": "code",
   "execution_count": null,
   "id": "a6071d30",
   "metadata": {},
   "outputs": [],
   "source": []
  }
 ],
 "metadata": {
  "kernelspec": {
   "display_name": "Python 3 (ipykernel)",
   "language": "python",
   "name": "python3"
  },
  "language_info": {
   "codemirror_mode": {
    "name": "ipython",
    "version": 3
   },
   "file_extension": ".py",
   "mimetype": "text/x-python",
   "name": "python",
   "nbconvert_exporter": "python",
   "pygments_lexer": "ipython3",
   "version": "3.10.9"
  }
 },
 "nbformat": 4,
 "nbformat_minor": 5
}
