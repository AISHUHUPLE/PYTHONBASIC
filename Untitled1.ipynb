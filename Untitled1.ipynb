{
 "cells": [
  {
   "cell_type": "code",
   "execution_count": 1,
   "id": "e773fd1c",
   "metadata": {},
   "outputs": [],
   "source": [
    "strings=\"aishu\",\"car\",\"holiday\",\"bike\",\"collage\""
   ]
  },
  {
   "cell_type": "code",
   "execution_count": 2,
   "id": "80ca642c",
   "metadata": {},
   "outputs": [
    {
     "data": {
      "text/plain": [
       "('aishu', 'car', 'holiday', 'bike', 'collage')"
      ]
     },
     "execution_count": 2,
     "metadata": {},
     "output_type": "execute_result"
    }
   ],
   "source": [
    "strings"
   ]
  },
  {
   "cell_type": "code",
   "execution_count": 3,
   "id": "e395c1c1",
   "metadata": {},
   "outputs": [
    {
     "name": "stdout",
     "output_type": "stream",
     "text": [
      "('aishu', 'car', 'holiday', 'bike', 'collage')\n"
     ]
    }
   ],
   "source": [
    "print(strings)"
   ]
  },
  {
   "cell_type": "code",
   "execution_count": 4,
   "id": "a1fe83e6",
   "metadata": {},
   "outputs": [
    {
     "name": "stdout",
     "output_type": "stream",
     "text": [
      "aishu\n"
     ]
    }
   ],
   "source": [
    "print(\"aishu\")"
   ]
  },
  {
   "cell_type": "code",
   "execution_count": 5,
   "id": "a92da422",
   "metadata": {},
   "outputs": [
    {
     "name": "stdout",
     "output_type": "stream",
     "text": [
      "car\n"
     ]
    }
   ],
   "source": [
    "print(\"car\")"
   ]
  },
  {
   "cell_type": "code",
   "execution_count": 6,
   "id": "2e52ebfb",
   "metadata": {},
   "outputs": [
    {
     "name": "stdout",
     "output_type": "stream",
     "text": [
      "holiday\n"
     ]
    }
   ],
   "source": [
    "print(\"holiday\")"
   ]
  },
  {
   "cell_type": "code",
   "execution_count": 7,
   "id": "9ab988b3",
   "metadata": {},
   "outputs": [
    {
     "name": "stdout",
     "output_type": "stream",
     "text": [
      "maxi\n"
     ]
    }
   ],
   "source": [
    "print(\"maxi\")"
   ]
  },
  {
   "cell_type": "code",
   "execution_count": 8,
   "id": "ac2ff9c5",
   "metadata": {},
   "outputs": [
    {
     "name": "stdout",
     "output_type": "stream",
     "text": [
      "auto\n"
     ]
    }
   ],
   "source": [
    "print(\"auto\")"
   ]
  },
  {
   "cell_type": "code",
   "execution_count": 9,
   "id": "3b04914c",
   "metadata": {},
   "outputs": [
    {
     "name": "stdout",
     "output_type": "stream",
     "text": [
      "bus\n"
     ]
    }
   ],
   "source": [
    "print(\"bus\")"
   ]
  },
  {
   "cell_type": "code",
   "execution_count": 10,
   "id": "1f8a9569",
   "metadata": {},
   "outputs": [
    {
     "name": "stdout",
     "output_type": "stream",
     "text": [
      "geo\n"
     ]
    }
   ],
   "source": [
    "print(\"geo\")"
   ]
  },
  {
   "cell_type": "code",
   "execution_count": 11,
   "id": "a9c5a2aa",
   "metadata": {},
   "outputs": [],
   "source": [
    "#indexing"
   ]
  },
  {
   "cell_type": "code",
   "execution_count": 12,
   "id": "36e4f49a",
   "metadata": {},
   "outputs": [],
   "source": [
    "s=(0,1,2,3,4,5,6,7)"
   ]
  },
  {
   "cell_type": "code",
   "execution_count": 13,
   "id": "8ad8de17",
   "metadata": {},
   "outputs": [
    {
     "data": {
      "text/plain": [
       "(0, 1, 2, 3, 4, 5, 6, 7)"
      ]
     },
     "execution_count": 13,
     "metadata": {},
     "output_type": "execute_result"
    }
   ],
   "source": [
    "s"
   ]
  },
  {
   "cell_type": "code",
   "execution_count": 15,
   "id": "0b0ec658",
   "metadata": {},
   "outputs": [
    {
     "data": {
      "text/plain": [
       "0"
      ]
     },
     "execution_count": 15,
     "metadata": {},
     "output_type": "execute_result"
    }
   ],
   "source": [
    "s[0]"
   ]
  },
  {
   "cell_type": "code",
   "execution_count": 16,
   "id": "a74edd97",
   "metadata": {},
   "outputs": [],
   "source": [
    "s=[\"aishu\",\"laptop\",\"pen\",\"book\"]\n"
   ]
  },
  {
   "cell_type": "code",
   "execution_count": 17,
   "id": "10319634",
   "metadata": {},
   "outputs": [
    {
     "data": {
      "text/plain": [
       "['aishu', 'laptop', 'pen', 'book']"
      ]
     },
     "execution_count": 17,
     "metadata": {},
     "output_type": "execute_result"
    }
   ],
   "source": [
    "s"
   ]
  },
  {
   "cell_type": "code",
   "execution_count": 18,
   "id": "577f061e",
   "metadata": {},
   "outputs": [
    {
     "data": {
      "text/plain": [
       "'book'"
      ]
     },
     "execution_count": 18,
     "metadata": {},
     "output_type": "execute_result"
    }
   ],
   "source": [
    "s[3]"
   ]
  },
  {
   "cell_type": "code",
   "execution_count": 19,
   "id": "6cc28bce",
   "metadata": {},
   "outputs": [],
   "source": [
    "s1=(\"sindhu\",\"mass\",\"pavan\",\"indu\")"
   ]
  },
  {
   "cell_type": "code",
   "execution_count": 20,
   "id": "2fd3eb63",
   "metadata": {},
   "outputs": [
    {
     "data": {
      "text/plain": [
       "'pavan'"
      ]
     },
     "execution_count": 20,
     "metadata": {},
     "output_type": "execute_result"
    }
   ],
   "source": [
    "s1[2]"
   ]
  },
  {
   "cell_type": "code",
   "execution_count": 21,
   "id": "7d50a804",
   "metadata": {},
   "outputs": [],
   "source": [
    "s2=(\"hindu\",\"religion\",\"defence\",\"indian\")"
   ]
  },
  {
   "cell_type": "code",
   "execution_count": 22,
   "id": "3691421d",
   "metadata": {},
   "outputs": [
    {
     "data": {
      "text/plain": [
       "'indian'"
      ]
     },
     "execution_count": 22,
     "metadata": {},
     "output_type": "execute_result"
    }
   ],
   "source": [
    "s2[3]"
   ]
  },
  {
   "cell_type": "code",
   "execution_count": 23,
   "id": "b1c16df7",
   "metadata": {},
   "outputs": [],
   "source": [
    "aishu=\"i am aishu from hyd and i stay in begum bazaar\""
   ]
  },
  {
   "cell_type": "code",
   "execution_count": null,
   "id": "719311f3",
   "metadata": {},
   "outputs": [],
   "source": []
  },
  {
   "cell_type": "code",
   "execution_count": 24,
   "id": "5b34967c",
   "metadata": {},
   "outputs": [
    {
     "name": "stdout",
     "output_type": "stream",
     "text": [
      "i am aishu from hyd and i stay in begum bazaar\n"
     ]
    }
   ],
   "source": [
    "print(aishu)"
   ]
  },
  {
   "cell_type": "code",
   "execution_count": 25,
   "id": "908e4b2c",
   "metadata": {},
   "outputs": [
    {
     "data": {
      "text/plain": [
       "'i'"
      ]
     },
     "execution_count": 25,
     "metadata": {},
     "output_type": "execute_result"
    }
   ],
   "source": [
    "aishu[0]"
   ]
  },
  {
   "cell_type": "code",
   "execution_count": 26,
   "id": "5857ed44",
   "metadata": {},
   "outputs": [
    {
     "data": {
      "text/plain": [
       "'a'"
      ]
     },
     "execution_count": 26,
     "metadata": {},
     "output_type": "execute_result"
    }
   ],
   "source": [
    "aishu[2]"
   ]
  },
  {
   "cell_type": "code",
   "execution_count": 27,
   "id": "94395f36",
   "metadata": {},
   "outputs": [
    {
     "data": {
      "text/plain": [
       "'r'"
      ]
     },
     "execution_count": 27,
     "metadata": {},
     "output_type": "execute_result"
    }
   ],
   "source": [
    "aishu[12]"
   ]
  },
  {
   "cell_type": "code",
   "execution_count": 28,
   "id": "7fbca065",
   "metadata": {},
   "outputs": [
    {
     "data": {
      "text/plain": [
       "' '"
      ]
     },
     "execution_count": 28,
     "metadata": {},
     "output_type": "execute_result"
    }
   ],
   "source": [
    "aishu[1]"
   ]
  },
  {
   "cell_type": "code",
   "execution_count": 29,
   "id": "d25ef782",
   "metadata": {},
   "outputs": [
    {
     "data": {
      "text/plain": [
       "'r'"
      ]
     },
     "execution_count": 29,
     "metadata": {},
     "output_type": "execute_result"
    }
   ],
   "source": [
    "aishu[-1]"
   ]
  },
  {
   "cell_type": "code",
   "execution_count": 30,
   "id": "dfc5ba88",
   "metadata": {},
   "outputs": [
    {
     "data": {
      "text/plain": [
       "'a'"
      ]
     },
     "execution_count": 30,
     "metadata": {},
     "output_type": "execute_result"
    }
   ],
   "source": [
    "aishu[-5]"
   ]
  },
  {
   "cell_type": "code",
   "execution_count": 31,
   "id": "61f918d7",
   "metadata": {},
   "outputs": [
    {
     "data": {
      "text/plain": [
       "'g'"
      ]
     },
     "execution_count": 31,
     "metadata": {},
     "output_type": "execute_result"
    }
   ],
   "source": [
    "aishu[-10]"
   ]
  },
  {
   "cell_type": "code",
   "execution_count": 33,
   "id": "3902e7e0",
   "metadata": {},
   "outputs": [
    {
     "data": {
      "text/plain": [
       "'m'"
      ]
     },
     "execution_count": 33,
     "metadata": {},
     "output_type": "execute_result"
    }
   ],
   "source": [
    "\n",
    "aishu[-8]\n",
    "\n",
    "\n",
    "\n",
    "\n"
   ]
  },
  {
   "cell_type": "code",
   "execution_count": 34,
   "id": "f6e721a5",
   "metadata": {},
   "outputs": [],
   "source": [
    "aishu=\"i write code\""
   ]
  },
  {
   "cell_type": "code",
   "execution_count": 35,
   "id": "a46556d2",
   "metadata": {},
   "outputs": [
    {
     "data": {
      "text/plain": [
       "'i write co'"
      ]
     },
     "execution_count": 35,
     "metadata": {},
     "output_type": "execute_result"
    }
   ],
   "source": [
    "aishu[0:10:1]"
   ]
  },
  {
   "cell_type": "code",
   "execution_count": 36,
   "id": "868caf26",
   "metadata": {},
   "outputs": [
    {
     "data": {
      "text/plain": [
       "'iwiec'"
      ]
     },
     "execution_count": 36,
     "metadata": {},
     "output_type": "execute_result"
    }
   ],
   "source": [
    "aishu[0:10:2]"
   ]
  },
  {
   "cell_type": "code",
   "execution_count": null,
   "id": "78987969",
   "metadata": {},
   "outputs": [],
   "source": []
  }
 ],
 "metadata": {
  "kernelspec": {
   "display_name": "Python 3 (ipykernel)",
   "language": "python",
   "name": "python3"
  },
  "language_info": {
   "codemirror_mode": {
    "name": "ipython",
    "version": 3
   },
   "file_extension": ".py",
   "mimetype": "text/x-python",
   "name": "python",
   "nbconvert_exporter": "python",
   "pygments_lexer": "ipython3",
   "version": "3.10.9"
  }
 },
 "nbformat": 4,
 "nbformat_minor": 5
}
