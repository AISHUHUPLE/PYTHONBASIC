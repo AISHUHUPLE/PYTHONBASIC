{
 "cells": [
  {
   "cell_type": "markdown",
   "id": "c5742bc7",
   "metadata": {},
   "source": [
    "# boolean,conditions and list manupilation"
   ]
  },
  {
   "cell_type": "code",
   "execution_count": 1,
   "id": "13a25951",
   "metadata": {},
   "outputs": [],
   "source": [
    "a=10\n",
    "b=5"
   ]
  },
  {
   "cell_type": "code",
   "execution_count": 2,
   "id": "d0648bd5",
   "metadata": {},
   "outputs": [
    {
     "name": "stdout",
     "output_type": "stream",
     "text": [
      "True\n"
     ]
    }
   ],
   "source": [
    "print(a>b)"
   ]
  },
  {
   "cell_type": "code",
   "execution_count": 3,
   "id": "4ea49be0",
   "metadata": {},
   "outputs": [
    {
     "name": "stdout",
     "output_type": "stream",
     "text": [
      "False\n"
     ]
    }
   ],
   "source": [
    "print(a<b)"
   ]
  },
  {
   "cell_type": "code",
   "execution_count": 5,
   "id": "123ad31c",
   "metadata": {},
   "outputs": [],
   "source": [
    "car=20\n",
    "bike=40"
   ]
  },
  {
   "cell_type": "code",
   "execution_count": 6,
   "id": "fb28bb3c",
   "metadata": {},
   "outputs": [
    {
     "name": "stdout",
     "output_type": "stream",
     "text": [
      "True\n"
     ]
    }
   ],
   "source": [
    "print(bike>car)"
   ]
  },
  {
   "cell_type": "code",
   "execution_count": 7,
   "id": "8cb374a4",
   "metadata": {},
   "outputs": [],
   "source": [
    "dance=50"
   ]
  },
  {
   "cell_type": "code",
   "execution_count": 8,
   "id": "26bd745b",
   "metadata": {},
   "outputs": [],
   "source": [
    "sing=40"
   ]
  },
  {
   "cell_type": "code",
   "execution_count": 9,
   "id": "36b1f4d4",
   "metadata": {},
   "outputs": [
    {
     "name": "stdout",
     "output_type": "stream",
     "text": [
      "False\n"
     ]
    }
   ],
   "source": [
    "print(sing>dance)"
   ]
  },
  {
   "cell_type": "code",
   "execution_count": 10,
   "id": "2b1f7efe",
   "metadata": {},
   "outputs": [],
   "source": [
    "cool=80"
   ]
  },
  {
   "cell_type": "code",
   "execution_count": 11,
   "id": "31f04aef",
   "metadata": {},
   "outputs": [],
   "source": [
    "hot=90"
   ]
  },
  {
   "cell_type": "code",
   "execution_count": 12,
   "id": "c7609e00",
   "metadata": {},
   "outputs": [
    {
     "name": "stdout",
     "output_type": "stream",
     "text": [
      "False\n"
     ]
    }
   ],
   "source": [
    "print(hot<cool)"
   ]
  },
  {
   "cell_type": "markdown",
   "id": "12a3d7d8",
   "metadata": {},
   "source": [
    "# +,-,*,/,%"
   ]
  },
  {
   "cell_type": "code",
   "execution_count": 22,
   "id": "3fe7f822",
   "metadata": {},
   "outputs": [],
   "source": [
    "a=10\n",
    "b=20"
   ]
  },
  {
   "cell_type": "code",
   "execution_count": 23,
   "id": "dcb86e05",
   "metadata": {},
   "outputs": [
    {
     "data": {
      "text/plain": [
       "30"
      ]
     },
     "execution_count": 23,
     "metadata": {},
     "output_type": "execute_result"
    }
   ],
   "source": [
    "a+b"
   ]
  },
  {
   "cell_type": "code",
   "execution_count": null,
   "id": "5aa96074",
   "metadata": {},
   "outputs": [],
   "source": [
    "dance=50\n",
    "sing=40"
   ]
  },
  {
   "cell_type": "code",
   "execution_count": 24,
   "id": "db453078",
   "metadata": {},
   "outputs": [
    {
     "name": "stdout",
     "output_type": "stream",
     "text": [
      "90\n"
     ]
    }
   ],
   "source": [
    "print(dance+sing)"
   ]
  },
  {
   "cell_type": "code",
   "execution_count": 25,
   "id": "1fc436d9",
   "metadata": {},
   "outputs": [],
   "source": [
    "c=15\n",
    "d=25"
   ]
  },
  {
   "cell_type": "code",
   "execution_count": 26,
   "id": "5a0d8bf1",
   "metadata": {},
   "outputs": [
    {
     "data": {
      "text/plain": [
       "5"
      ]
     },
     "execution_count": 26,
     "metadata": {},
     "output_type": "execute_result"
    }
   ],
   "source": [
    "c-a"
   ]
  },
  {
   "cell_type": "code",
   "execution_count": 27,
   "id": "066e7046",
   "metadata": {},
   "outputs": [
    {
     "data": {
      "text/plain": [
       "500"
      ]
     },
     "execution_count": 27,
     "metadata": {},
     "output_type": "execute_result"
    }
   ],
   "source": [
    "b*d"
   ]
  },
  {
   "cell_type": "code",
   "execution_count": 28,
   "id": "1cd1656f",
   "metadata": {},
   "outputs": [
    {
     "data": {
      "text/plain": [
       "1.3333333333333333"
      ]
     },
     "execution_count": 28,
     "metadata": {},
     "output_type": "execute_result"
    }
   ],
   "source": [
    "b/c"
   ]
  },
  {
   "cell_type": "code",
   "execution_count": 29,
   "id": "3342012a",
   "metadata": {},
   "outputs": [
    {
     "data": {
      "text/plain": [
       "15"
      ]
     },
     "execution_count": 29,
     "metadata": {},
     "output_type": "execute_result"
    }
   ],
   "source": [
    "c%d"
   ]
  },
  {
   "cell_type": "code",
   "execution_count": 30,
   "id": "f2e800bb",
   "metadata": {},
   "outputs": [
    {
     "name": "stdout",
     "output_type": "stream",
     "text": [
      "here we are adding car and pen variable\n"
     ]
    }
   ],
   "source": [
    "print(\"here we are adding car and pen variable\")"
   ]
  },
  {
   "cell_type": "code",
   "execution_count": 32,
   "id": "2a311f4f",
   "metadata": {},
   "outputs": [],
   "source": [
    "car=30\n",
    "pen=40"
   ]
  },
  {
   "cell_type": "code",
   "execution_count": 34,
   "id": "901b4e8b",
   "metadata": {},
   "outputs": [],
   "source": [
    "book=car+pen"
   ]
  },
  {
   "cell_type": "code",
   "execution_count": 35,
   "id": "ca2c4fb4",
   "metadata": {},
   "outputs": [
    {
     "name": "stdout",
     "output_type": "stream",
     "text": [
      "here we are doing concatination of car and pen:value of book is:- 70\n"
     ]
    }
   ],
   "source": [
    "print(\"here we are doing concatination of car and pen:value of book is:-\",book)"
   ]
  },
  {
   "cell_type": "code",
   "execution_count": 36,
   "id": "cfe84783",
   "metadata": {},
   "outputs": [],
   "source": [
    "a=40\n",
    "car=20\n",
    "value1=a+car\n",
    "value2=a-car\n",
    "value3=a*car\n",
    "value4=a/car\n",
    "value5=a*100/car #this is the percentage of a\n"
   ]
  },
  {
   "cell_type": "code",
   "execution_count": 37,
   "id": "8058929a",
   "metadata": {},
   "outputs": [
    {
     "name": "stdout",
     "output_type": "stream",
     "text": [
      "60\n"
     ]
    }
   ],
   "source": [
    "print(a+car)"
   ]
  },
  {
   "cell_type": "code",
   "execution_count": 38,
   "id": "90f1ddc9",
   "metadata": {},
   "outputs": [
    {
     "name": "stdout",
     "output_type": "stream",
     "text": [
      "20\n"
     ]
    }
   ],
   "source": [
    "print(a-car)"
   ]
  },
  {
   "cell_type": "code",
   "execution_count": 39,
   "id": "2f9b7490",
   "metadata": {},
   "outputs": [
    {
     "name": "stdout",
     "output_type": "stream",
     "text": [
      "800\n"
     ]
    }
   ],
   "source": [
    "print(a*car)"
   ]
  },
  {
   "cell_type": "code",
   "execution_count": 40,
   "id": "4519713d",
   "metadata": {},
   "outputs": [
    {
     "name": "stdout",
     "output_type": "stream",
     "text": [
      "2.0\n"
     ]
    }
   ],
   "source": [
    "print(a/car)"
   ]
  },
  {
   "cell_type": "code",
   "execution_count": 41,
   "id": "d0eb86e4",
   "metadata": {},
   "outputs": [
    {
     "name": "stdout",
     "output_type": "stream",
     "text": [
      "200.0\n"
     ]
    }
   ],
   "source": [
    "print(a*100/car)"
   ]
  },
  {
   "cell_type": "markdown",
   "id": "3079a1ca",
   "metadata": {},
   "source": [
    "# list manupulation"
   ]
  },
  {
   "cell_type": "code",
   "execution_count": 42,
   "id": "e5003205",
   "metadata": {},
   "outputs": [],
   "source": [
    "t=(1,2,3,4,5,\"aishu\")"
   ]
  },
  {
   "cell_type": "code",
   "execution_count": 43,
   "id": "c6f17c4c",
   "metadata": {},
   "outputs": [
    {
     "data": {
      "text/plain": [
       "[1, 2, 3, 4, 5, 'aishu']"
      ]
     },
     "execution_count": 43,
     "metadata": {},
     "output_type": "execute_result"
    }
   ],
   "source": [
    "list(t)"
   ]
  },
  {
   "cell_type": "code",
   "execution_count": 44,
   "id": "1fcdb065",
   "metadata": {},
   "outputs": [],
   "source": [
    "b=list(t)"
   ]
  },
  {
   "cell_type": "code",
   "execution_count": 46,
   "id": "3a274804",
   "metadata": {},
   "outputs": [
    {
     "data": {
      "text/plain": [
       "list"
      ]
     },
     "execution_count": 46,
     "metadata": {},
     "output_type": "execute_result"
    }
   ],
   "source": [
    "type(b)"
   ]
  },
  {
   "cell_type": "code",
   "execution_count": 47,
   "id": "0feccb80",
   "metadata": {},
   "outputs": [],
   "source": [
    "b={1,2,3,4,\"aishu\",\"krishna\"}"
   ]
  },
  {
   "cell_type": "code",
   "execution_count": 48,
   "id": "8d4363b1",
   "metadata": {},
   "outputs": [
    {
     "data": {
      "text/plain": [
       "set"
      ]
     },
     "execution_count": 48,
     "metadata": {},
     "output_type": "execute_result"
    }
   ],
   "source": [
    "type(b)"
   ]
  },
  {
   "cell_type": "code",
   "execution_count": 49,
   "id": "5c13511d",
   "metadata": {},
   "outputs": [
    {
     "data": {
      "text/plain": [
       "[1, 2, 3, 4, 'aishu', 'krishna']"
      ]
     },
     "execution_count": 49,
     "metadata": {},
     "output_type": "execute_result"
    }
   ],
   "source": [
    "list(b)"
   ]
  },
  {
   "cell_type": "code",
   "execution_count": 3,
   "id": "7826c611",
   "metadata": {},
   "outputs": [
    {
     "ename": "NameError",
     "evalue": "name 'b' is not defined",
     "output_type": "error",
     "traceback": [
      "\u001b[1;31m---------------------------------------------------------------------------\u001b[0m",
      "\u001b[1;31mNameError\u001b[0m                                 Traceback (most recent call last)",
      "Cell \u001b[1;32mIn[3], line 1\u001b[0m\n\u001b[1;32m----> 1\u001b[0m s1\u001b[38;5;241m=\u001b[39m\u001b[38;5;28mlist\u001b[39m(\u001b[43mb\u001b[49m)\n",
      "\u001b[1;31mNameError\u001b[0m: name 'b' is not defined"
     ]
    }
   ],
   "source": [
    "s1=list(b)"
   ]
  },
  {
   "cell_type": "code",
   "execution_count": 4,
   "id": "a6887a2c",
   "metadata": {},
   "outputs": [
    {
     "ename": "NameError",
     "evalue": "name 's1' is not defined",
     "output_type": "error",
     "traceback": [
      "\u001b[1;31m---------------------------------------------------------------------------\u001b[0m",
      "\u001b[1;31mNameError\u001b[0m                                 Traceback (most recent call last)",
      "Cell \u001b[1;32mIn[4], line 1\u001b[0m\n\u001b[1;32m----> 1\u001b[0m \u001b[38;5;28mprint\u001b[39m(\u001b[43ms1\u001b[49m)\n",
      "\u001b[1;31mNameError\u001b[0m: name 's1' is not defined"
     ]
    }
   ],
   "source": [
    "print(s1)"
   ]
  },
  {
   "cell_type": "code",
   "execution_count": null,
   "id": "5cf5c227",
   "metadata": {},
   "outputs": [],
   "source": []
  }
 ],
 "metadata": {
  "kernelspec": {
   "display_name": "Python 3 (ipykernel)",
   "language": "python",
   "name": "python3"
  },
  "language_info": {
   "codemirror_mode": {
    "name": "ipython",
    "version": 3
   },
   "file_extension": ".py",
   "mimetype": "text/x-python",
   "name": "python",
   "nbconvert_exporter": "python",
   "pygments_lexer": "ipython3",
   "version": "3.10.9"
  }
 },
 "nbformat": 4,
 "nbformat_minor": 5
}
