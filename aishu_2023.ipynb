{
 "cells": [
  {
   "cell_type": "markdown",
   "id": "5439b65e",
   "metadata": {},
   "source": [
    "# conditions"
   ]
  },
  {
   "cell_type": "code",
   "execution_count": null,
   "id": "cdb8ab34",
   "metadata": {},
   "outputs": [],
   "source": [
    "conditions has 3 modules\n",
    "if\n",
    "elif\n",
    "else"
   ]
  },
  {
   "cell_type": "code",
   "execution_count": null,
   "id": "efa8e461",
   "metadata": {},
   "outputs": [],
   "source": [
    "if condition:\n",
    "    statement\n",
    "elif condition1:\n",
    "    statement1\n",
    "elif condition2:\n",
    "    statement2\n",
    "elif condition3:\n",
    "    statement3\n",
    "else:\n",
    "    end the statement"
   ]
  },
  {
   "cell_type": "code",
   "execution_count": 2,
   "id": "0ca15dbe",
   "metadata": {},
   "outputs": [
    {
     "name": "stdout",
     "output_type": "stream",
     "text": [
      "20\n"
     ]
    }
   ],
   "source": [
    "a=10\n",
    "b=20\n",
    "c=a+b\n",
    "if a>b:\n",
    "    print(c)\n",
    "elif a<b:\n",
    "    print(b)\n",
    "elif a!=b:\n",
    "    print(c)\n",
    "else:\n",
    "    print(\"enter the value:\")\n",
    "         "
   ]
  },
  {
   "cell_type": "code",
   "execution_count": 2,
   "id": "c9caba90",
   "metadata": {},
   "outputs": [
    {
     "name": "stdout",
     "output_type": "stream",
     "text": [
      "10\n"
     ]
    }
   ],
   "source": [
    "a=10\n",
    "if a==10:\n",
    "    print(a)"
   ]
  },
  {
   "cell_type": "code",
   "execution_count": 3,
   "id": "d9b0a472",
   "metadata": {},
   "outputs": [
    {
     "name": "stdout",
     "output_type": "stream",
     "text": [
      "b is grt than a\n"
     ]
    }
   ],
   "source": [
    "a=10\n",
    "b=20\n",
    "if a>b:\n",
    "    print(\"a is grt than b\")\n",
    "elif b>a:\n",
    "    print(\"b is grt than a\")\n",
    "                          \n"
   ]
  },
  {
   "cell_type": "code",
   "execution_count": 4,
   "id": "2448edf5",
   "metadata": {},
   "outputs": [
    {
     "name": "stdout",
     "output_type": "stream",
     "text": [
      "1010\n"
     ]
    }
   ],
   "source": [
    "number=10\n",
    "a=f'{number:b}'\n",
    "print(a)\n"
   ]
  },
  {
   "cell_type": "code",
   "execution_count": 5,
   "id": "ac0c4de8",
   "metadata": {},
   "outputs": [
    {
     "name": "stdout",
     "output_type": "stream",
     "text": [
      "11110\n"
     ]
    }
   ],
   "source": [
    "number2=30\n",
    "b=f'{number2:0b}'\n",
    "print(b)"
   ]
  },
  {
   "cell_type": "code",
   "execution_count": 6,
   "id": "ba878a16",
   "metadata": {},
   "outputs": [
    {
     "name": "stdout",
     "output_type": "stream",
     "text": [
      "0000011110\n"
     ]
    }
   ],
   "source": [
    "number3=30\n",
    "c=f'{number3:010b}'\n",
    "print(c)"
   ]
  },
  {
   "cell_type": "code",
   "execution_count": 7,
   "id": "5c20a1bd",
   "metadata": {},
   "outputs": [
    {
     "name": "stdout",
     "output_type": "stream",
     "text": [
      "     11110\n"
     ]
    }
   ],
   "source": [
    "\n",
    "number2=30\n",
    "b=f'{number2:10b}'\n",
    "print(b)"
   ]
  },
  {
   "cell_type": "markdown",
   "id": "e9b48aef",
   "metadata": {},
   "source": [
    "# and or operations"
   ]
  },
  {
   "cell_type": "code",
   "execution_count": 8,
   "id": "daffe6ab",
   "metadata": {},
   "outputs": [
    {
     "name": "stdout",
     "output_type": "stream",
     "text": [
      "10\n"
     ]
    }
   ],
   "source": [
    "a=10\n",
    "b=20\n",
    "if a==10 or a==20:\n",
    "    print(a)"
   ]
  },
  {
   "cell_type": "code",
   "execution_count": 9,
   "id": "fe7ae1d5",
   "metadata": {},
   "outputs": [],
   "source": [
    "if a==10 and a==20:\n",
    "    print(a)"
   ]
  },
  {
   "cell_type": "markdown",
   "id": "b864b0bc",
   "metadata": {},
   "source": [
    "# calculator"
   ]
  },
  {
   "cell_type": "code",
   "execution_count": 10,
   "id": "497dd69c",
   "metadata": {},
   "outputs": [
    {
     "name": "stdout",
     "output_type": "stream",
     "text": [
      "enter a value5\n",
      "enter b value5\n",
      "enter a operations,('+','-','*','/','//','%')*\n",
      "here we are performing multiplication operation 25\n"
     ]
    }
   ],
   "source": [
    "a=int(input(\"enter a value\"))\n",
    "b=int(input(\"enter b value\"))\n",
    "operations =input(\"enter a operations,('+','-','*','/','//','%')\")\n",
    "\n",
    "if operations == \"+\":\n",
    "    print(\"here we are performing addition operation\",a+b)\n",
    "elif operations == \"-\":\n",
    "    print(\"here we are performing subtraction operation\",a-b)\n",
    "elif operations == \"*\":\n",
    "    print(\"here we are performing multiplication operation\",a*b)\n",
    "elif operations == \"/\": \n",
    "    print(\"here we are performing division operation\",a/b)\n",
    "elif operations == \"//\":\n",
    "    print(\"here we are performing division operation without decimal point\",a//b)\n",
    "elif operations == \"%\":\n",
    "    print(\"here we are performing modular operation without decimal point\",a%b)\n",
    "else:\n",
    "    print(\"please enter the valid operation\")\n",
    "    "
   ]
  },
  {
   "cell_type": "code",
   "execution_count": null,
   "id": "baebaf7e",
   "metadata": {},
   "outputs": [],
   "source": []
  },
  {
   "cell_type": "code",
   "execution_count": null,
   "id": "db48728f",
   "metadata": {},
   "outputs": [],
   "source": []
  }
 ],
 "metadata": {
  "kernelspec": {
   "display_name": "Python 3 (ipykernel)",
   "language": "python",
   "name": "python3"
  },
  "language_info": {
   "codemirror_mode": {
    "name": "ipython",
    "version": 3
   },
   "file_extension": ".py",
   "mimetype": "text/x-python",
   "name": "python",
   "nbconvert_exporter": "python",
   "pygments_lexer": "ipython3",
   "version": "3.10.9"
  }
 },
 "nbformat": 4,
 "nbformat_minor": 5
}
